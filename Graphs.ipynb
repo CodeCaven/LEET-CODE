{
 "cells": [
  {
   "cell_type": "markdown",
   "id": "10634cf3-85ef-447b-9a6d-ebcf55339c52",
   "metadata": {},
   "source": [
    "## Find if Path exists in a Graph"
   ]
  },
  {
   "cell_type": "code",
   "execution_count": 2,
   "id": "784f44ec-e8d8-4ff0-8782-d3847579974c",
   "metadata": {},
   "outputs": [
    {
     "data": {
      "text/plain": [
       "'\\nThere is a bi-directional graph with n vertices, where each vertex is labeled from 0 to n - 1 (inclusive). The edges in the graph are represented as a 2D integer array edges, where each edges[i] = [ui, vi] denotes a bi-directional edge between vertex ui and vertex vi. Every vertex pair is connected by at most one edge, and no vertex has an edge to itself.\\n\\nYou want to determine if there is a valid path that exists from vertex source to vertex destination.\\n\\nGiven edges and the integers n, source, and destination, return true if there is a valid path from source to destination, or false otherwise.\\n\\n'"
      ]
     },
     "execution_count": 2,
     "metadata": {},
     "output_type": "execute_result"
    }
   ],
   "source": [
    "\"\"\"\n",
    "There is a bi-directional graph with n vertices, where each vertex is labeled from 0 to n - 1 (inclusive). The edges in the graph are represented as a 2D integer array edges, where each edges[i] = [ui, vi] denotes a bi-directional edge between vertex ui and vertex vi. Every vertex pair is connected by at most one edge, and no vertex has an edge to itself.\n",
    "\n",
    "You want to determine if there is a valid path that exists from vertex source to vertex destination.\n",
    "\n",
    "Given edges and the integers n, source, and destination, return true if there is a valid path from source to destination, or false otherwise.\n",
    "\n",
    "\"\"\""
   ]
  },
  {
   "cell_type": "code",
   "execution_count": 4,
   "id": "ba47c0e9-8f89-4ddd-9b21-075dcc6639c7",
   "metadata": {},
   "outputs": [
    {
     "name": "stdout",
     "output_type": "stream",
     "text": [
      "0\n",
      "1\n",
      "2\n",
      "False\n"
     ]
    }
   ],
   "source": [
    "#edges = [[0,7],[0,8],[6,1],[2,0],[0,4],[5,8],[4,7],[1,3],[3,5],[6,5]]\n",
    "edges = [[0,1],[0,2],[3,5],[5,4],[4,3]]\n",
    "#n = 10\n",
    "n = 6\n",
    "#source = 7\n",
    "source = 0\n",
    "destination = 5\n",
    "\n",
    "# create an adjacency matrix (allows efficient access of incident edges)\n",
    "adj_mat = [[0]*n for _ in range(n)]\n",
    "for edge in edges:\n",
    "    adj_mat[edge[0]][edge[1]] = 1\n",
    "    adj_mat[edge[1]][edge[0]] = 1 # undirected\n",
    "\n",
    "\n",
    "visited = [False] * len(adj_mat)\n",
    "#dfs(source, visited, adj_mat, destination)\n",
    "bfs(source, visited, adj_mat)\n",
    "print(visited[destination])\n",
    " "
   ]
  },
  {
   "cell_type": "markdown",
   "id": "63e01859-6fa6-4af4-b55a-6252dd2b728a",
   "metadata": {},
   "source": [
    "### Depth First Search ALgorithm"
   ]
  },
  {
   "cell_type": "code",
   "execution_count": 17,
   "id": "8825420e-afb2-43dd-8e55-72d6de69e565",
   "metadata": {},
   "outputs": [],
   "source": [
    "# This works but triggers a Memory Limit in LEET-CODE\n",
    "# Need to try beadth first, transitive closure, floyds, union-find ???\n",
    "\n",
    "# Follows first edge of a vertex as 'deep' as it can then recurses\n",
    "\n",
    "\n",
    "def dfs(source, visited, adj, dest):\n",
    "    visited[source] = True\n",
    "    if source == dest:\n",
    "        return\n",
    "\n",
    "    # check every edge of each vertex\n",
    "    for i in range(len(adj)):\n",
    "        # found so stop recursive calls\n",
    "        if visited[dest]:\n",
    "            break\n",
    "        if adj[source][i] == 1 and not visited[i]: # a vertex we haven't seen yet\n",
    "            dfs(i, visited, adj, dest) # recurse\n"
   ]
  },
  {
   "cell_type": "markdown",
   "id": "7595f881-0a1d-436b-87d4-a63a1842770d",
   "metadata": {},
   "source": [
    "### Breadth First Search Algorithm"
   ]
  },
  {
   "cell_type": "code",
   "execution_count": 2,
   "id": "5c3eb37f-3803-46ef-98c5-60f22c954070",
   "metadata": {},
   "outputs": [],
   "source": [
    "# gets every edge of a vertex in levels (width)\n",
    "# same memory issues as dfs with this implementation\n",
    "\n",
    "def bfs(source, visited, adj):\n",
    "\n",
    "    # queue for the nodes\n",
    "    queue = []\n",
    "    queue.append(source)\n",
    "    visited[source] = True\n",
    "\n",
    "    while queue:\n",
    "\n",
    "        s = queue.pop(0)\n",
    "        print(s)\n",
    "\n",
    "        # get every adjacent edge and put in queue if not visited\n",
    "        for i in range(len(adj)):\n",
    "            if adj[s][i] == 1 and not visited[i]:\n",
    "                queue.append(i)\n",
    "                visited[i] = True\n",
    "    "
   ]
  },
  {
   "cell_type": "code",
   "execution_count": null,
   "id": "2878e78c-2667-4d26-b1de-e23ddd000d69",
   "metadata": {},
   "outputs": [],
   "source": [
    " \"\"\"\n",
    "So can use Warshalls which computes the transitive closure (connectedness) between vertices using the Adjacency matrix\n",
    "If A is an adjacency matrix (it gives all shortest paths of length one), A^2 gives all paths of length 2 etc.\n",
    "So in each iteration can check the matrix for a path\n",
    "\n",
    "Floyds is the same as Warshalls but computes all pairs shortest paths so can check at end\n",
    "\n",
    "Kruskals algorithm uses union-find on disjoint sets to find minimum spanning tree which can also be adapted\n",
    "\n",
    "DFS and BFS supposedly can be changed to use sets instead of lists to avoid memory limit\n",
    "\n",
    "\n",
    " \"\"\""
   ]
  }
 ],
 "metadata": {
  "kernelspec": {
   "display_name": "Python 3 (ipykernel)",
   "language": "python",
   "name": "python3"
  },
  "language_info": {
   "codemirror_mode": {
    "name": "ipython",
    "version": 3
   },
   "file_extension": ".py",
   "mimetype": "text/x-python",
   "name": "python",
   "nbconvert_exporter": "python",
   "pygments_lexer": "ipython3",
   "version": "3.11.7"
  }
 },
 "nbformat": 4,
 "nbformat_minor": 5
}
