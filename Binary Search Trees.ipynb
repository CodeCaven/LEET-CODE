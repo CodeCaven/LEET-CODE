{
 "cells": [
  {
   "cell_type": "code",
   "execution_count": 1,
   "id": "2fc507fa-d653-4a5e-82b3-77b8e7aaae30",
   "metadata": {},
   "outputs": [],
   "source": [
    "class TreeNode:\n",
    "\n",
    "    def __init__(self, value=None, left=None, right=None):\n",
    "        self.value = value\n",
    "        self.left = left\n",
    "        self.right = right\n",
    "        # can use a key as well as item\n",
    "    \n",
    "    def __str__(self):\n",
    "        return str(self.value)\n",
    "\n",
    "class BinarySearchTree:\n",
    "\n",
    "    # simple bst class for integer items\n",
    "\n",
    "    def __init__(self, root=None):\n",
    "        self.root = None\n",
    "\n",
    "    def insert(self, value):\n",
    "        if self.root is None:\n",
    "            self.root = TreeNode(value)\n",
    "        else:\n",
    "            self._insert_list_(self.root, value)\n",
    "\n",
    "    def _insert_list_(self, current, value):\n",
    "        if value < current.value:\n",
    "            if current.left is None:\n",
    "                current.left = TreeNode(value)\n",
    "            else:\n",
    "                self._insert_list_(current.left, value)\n",
    "        elif value > current.value:\n",
    "            if current.right is None:\n",
    "                current.right = TreeNode(value)\n",
    "            else:\n",
    "                self._insert_list_(current.right, value)\n",
    "\n",
    "        # else do nothing if equal as assume unique values in BST\n",
    "\n",
    "    def print_preorder(self):\n",
    "        self.print_preorder_aux(self.root)\n",
    "\n",
    "    def print_preorder_aux(self, current):\n",
    "        # root, lefttree, righttree\n",
    "        if current is not None:\n",
    "            print(current)\n",
    "            self.print_preorder_aux(current.left)\n",
    "            self.print_preorder_aux(current.right)\n",
    "\n",
    "\n",
    "    def print_inorder(self):\n",
    "        self.print_inorder_aux(self.root)\n",
    "\n",
    "    def print_inorder_aux(self, current):\n",
    "        #lefttree, root, righttree\n",
    "        if current is not None:\n",
    "            self.print_inorder_aux(current.left)\n",
    "            print(current)\n",
    "            self.print_inorder_aux(current.right)\n",
    "\n",
    "    def print_postorder(self):\n",
    "        self.print_postorder_aux(self.root)\n",
    "\n",
    "    def print_postorder_aux(self, current):\n",
    "        # lefttree, righttree, root\n",
    "        if current is not None:\n",
    "            self.print_postorder_aux(current.left)\n",
    "            self.print_postorder_aux(current.right)\n",
    "            print(current)\n",
    "        \n",
    "\n",
    "def create_bst(arr):\n",
    "    bst = BinarySearchTree()\n",
    "    for item in arr:\n",
    "        bst.insert(item)\n",
    "    return bst"
   ]
  },
  {
   "cell_type": "code",
   "execution_count": 2,
   "id": "6807f1c2-fcd5-43a2-848b-8c727765be45",
   "metadata": {},
   "outputs": [
    {
     "name": "stdout",
     "output_type": "stream",
     "text": [
      "1\n",
      "8\n",
      "6\n",
      "4\n",
      "2\n"
     ]
    }
   ],
   "source": [
    "bst = create_bst([2,1,4,6,8])\n",
    "bst.print_postorder()"
   ]
  },
  {
   "cell_type": "markdown",
   "id": "cda29450-0648-4fe4-ad62-a3d957c4bbe1",
   "metadata": {},
   "source": [
    "## Validate Binary Search Tree"
   ]
  },
  {
   "cell_type": "code",
   "execution_count": 20,
   "id": "a6b28a8d-7ec9-480e-9935-7d90386def73",
   "metadata": {},
   "outputs": [
    {
     "data": {
      "text/plain": [
       "\"\\nGiven the root of a binary tree, determine if it is a valid binary search tree (BST).\\n\\nA valid BST is defined as follows:\\n\\nThe left subtree of a node contains only nodes with keys strictly less than the node's key.\\nThe right subtree of a node contains only nodes with keys strictly greater than the node's key.\\nBoth the left and right subtrees must also be binary search trees.\\n\\n\""
      ]
     },
     "execution_count": 20,
     "metadata": {},
     "output_type": "execute_result"
    }
   ],
   "source": [
    "\"\"\"\n",
    "Given the root of a binary tree, determine if it is a valid binary search tree (BST).\n",
    "\n",
    "A valid BST is defined as follows:\n",
    "\n",
    "The left subtree of a node contains only nodes with keys strictly less than the node's key.\n",
    "The right subtree of a node contains only nodes with keys strictly greater than the node's key.\n",
    "Both the left and right subtrees must also be binary search trees.\n",
    "\n",
    "\"\"\""
   ]
  },
  {
   "cell_type": "code",
   "execution_count": 3,
   "id": "90f3cfb2-d05b-4a3b-ad58-7e9856e3116d",
   "metadata": {},
   "outputs": [],
   "source": [
    "# SEE BELOW for correct in order traversal method\n",
    "\n",
    "def isValidBST(root):\n",
    "    # Special case, root only\n",
    "    if root.left is None:\n",
    "        if root.right is None:\n",
    "            return True\n",
    "            \n",
    "    return isValidBST_left(root.left, root.value) and isValidBST_right(root.right, root.value)\n",
    "\n",
    "def isValidBST_left(root, base_value):\n",
    "\n",
    "    # check against root node value\n",
    "    if root.value > base_value:\n",
    "        return False\n",
    "\n",
    "    # check every node against its parent \n",
    "    if not root.left is None:\n",
    "        if root.left.value >= root.value:\n",
    "            return False\n",
    "\n",
    "        # check grandparent relationship\n",
    "        if not root.left.right is None:\n",
    "            if root.left.right.value >= root.value:\n",
    "                return False\n",
    "            \n",
    "        return isValidBST_left(root.left, base_value)\n",
    "\n",
    "    \n",
    "    if not root.right is None:\n",
    "        if root.right.value <= root.value:\n",
    "            return False\n",
    "        return isValidBST_left(root.right, base_value)\n",
    "        \n",
    "    return True\n",
    "\n",
    "def isValidBST_right(root, base_value):\n",
    "\n",
    "    # check against root node value\n",
    "    if root.value < base_value:\n",
    "        return False\n",
    "\n",
    "    # check every node against its parent \n",
    "    if not root.left is None:\n",
    "        if root.left.value >= root.value:\n",
    "            return False\n",
    "        return isValidBST_right(root.left, base_value)\n",
    "\n",
    "    \n",
    "    if not root.right is None:\n",
    "        if root.right.value <= root.value:\n",
    "            return False\n",
    "        return isValidBST_right(root.right, base_value)\n",
    "        \n",
    "    return True\n",
    "\n",
    "# need to check that on the left subtree that its RIGHT node is not greater than its parent parent (TEST CASE 4)\n",
    "# and any other related brain fuckery"
   ]
  },
  {
   "cell_type": "code",
   "execution_count": 49,
   "id": "7f0bba2c-9dc9-4665-8f16-f2be1534f13c",
   "metadata": {},
   "outputs": [
    {
     "data": {
      "text/plain": [
       "True"
      ]
     },
     "execution_count": 49,
     "metadata": {},
     "output_type": "execute_result"
    }
   ],
   "source": [
    "isValidBST(bst.root)"
   ]
  },
  {
   "cell_type": "markdown",
   "id": "b2e0b73b-808e-4c79-93fd-2ccc44451042",
   "metadata": {},
   "source": [
    "### Valid BST using inorder traversal"
   ]
  },
  {
   "cell_type": "code",
   "execution_count": 12,
   "id": "5af39794-e895-4e4b-9d17-be7a29142e85",
   "metadata": {},
   "outputs": [],
   "source": [
    "# attempt 2\n",
    "# instead of checking for all the relationships\n",
    "# do an in order traversal, if the list is in order it is a BST\n",
    "\n",
    "def isValid(root, arr):\n",
    "    #lefttree, root, righttree\n",
    "    \n",
    "    if root is not None:\n",
    "        isValid(root.left, arr)\n",
    "        arr.append(root.value)\n",
    "        isValid(root.right, arr)"
   ]
  },
  {
   "cell_type": "code",
   "execution_count": 13,
   "id": "df7eee70-1e7f-4ddf-ae25-a3363413d0d6",
   "metadata": {},
   "outputs": [],
   "source": [
    "arr = []\n",
    "isValid(bst.root, arr)"
   ]
  },
  {
   "cell_type": "code",
   "execution_count": 14,
   "id": "868f1d7f-572d-4f55-ac51-4cc71817ca1a",
   "metadata": {},
   "outputs": [
    {
     "data": {
      "text/plain": [
       "[1, 2, 4, 6, 8]"
      ]
     },
     "execution_count": 14,
     "metadata": {},
     "output_type": "execute_result"
    }
   ],
   "source": [
    "arr"
   ]
  },
  {
   "cell_type": "code",
   "execution_count": 15,
   "id": "3879dba9-12c5-4612-873a-b118ba4d85a7",
   "metadata": {},
   "outputs": [],
   "source": [
    "\n",
    "for i in range(len(arr)-1):\n",
    "    if arr[i] >= arr[i+1]:\n",
    "        print(False)"
   ]
  },
  {
   "cell_type": "code",
   "execution_count": null,
   "id": "afec30f7-4674-45ac-977d-f7dbec86c74f",
   "metadata": {},
   "outputs": [],
   "source": []
  }
 ],
 "metadata": {
  "kernelspec": {
   "display_name": "Python 3 (ipykernel)",
   "language": "python",
   "name": "python3"
  },
  "language_info": {
   "codemirror_mode": {
    "name": "ipython",
    "version": 3
   },
   "file_extension": ".py",
   "mimetype": "text/x-python",
   "name": "python",
   "nbconvert_exporter": "python",
   "pygments_lexer": "ipython3",
   "version": "3.11.7"
  }
 },
 "nbformat": 4,
 "nbformat_minor": 5
}
