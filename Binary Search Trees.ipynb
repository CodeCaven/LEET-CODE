{
 "cells": [
  {
   "cell_type": "code",
   "execution_count": 17,
   "id": "2fc507fa-d653-4a5e-82b3-77b8e7aaae30",
   "metadata": {},
   "outputs": [],
   "source": [
    "class TreeNode:\n",
    "\n",
    "    def __init__(self, value=None, left=None, right=None):\n",
    "        self.value = value\n",
    "        self.left = left\n",
    "        self.right = right\n",
    "        # can use a key as well as item\n",
    "    \n",
    "    def __str__(self):\n",
    "        return str(self.value)\n",
    "\n",
    "class BinarySearchTree:\n",
    "\n",
    "    # simple bst class for integer items\n",
    "\n",
    "    def __init__(self, root=None):\n",
    "        self.root = None\n",
    "\n",
    "    def insert(self, value):\n",
    "        if self.root is None:\n",
    "            self.root = TreeNode(value)\n",
    "        else:\n",
    "            self._insert_list_(self.root, value)\n",
    "\n",
    "    def _insert_list_(self, current, value):\n",
    "        if value < current.value:\n",
    "            if current.left is None:\n",
    "                current.left = TreeNode(value)\n",
    "            else:\n",
    "                self._insert_list_(current.left, value)\n",
    "        elif value > current.value:\n",
    "            if current.right is None:\n",
    "                current.right = TreeNode(value)\n",
    "            else:\n",
    "                self._insert_list_(current.right, value)\n",
    "\n",
    "        # else do nothing if equal as assume unique values in BST\n",
    "\n",
    "    def print_preorder(self):\n",
    "        self.print_preorder_aux(self.root)\n",
    "\n",
    "    def print_preorder_aux(self, current):\n",
    "        # root, lefttree, righttree\n",
    "        if current is not None:\n",
    "            print(current)\n",
    "            self.print_preorder_aux(current.left)\n",
    "            self.print_preorder_aux(current.right)\n",
    "\n",
    "\n",
    "    def print_inorder(self):\n",
    "        self.print_inorder_aux(self.root)\n",
    "\n",
    "    def print_inorder_aux(self, current):\n",
    "        #lefttree, root, righttree\n",
    "        if current is not None:\n",
    "            self.print_inorder_aux(current.left)\n",
    "            print(current)\n",
    "            self.print_inorder_aux(current.right)\n",
    "\n",
    "    def print_postorder(self):\n",
    "        self.print_postorder_aux(self.root)\n",
    "\n",
    "    def print_postorder_aux(self, current):\n",
    "        # lefttree, righttree, root\n",
    "        if current is not None:\n",
    "            self.print_postorder_aux(current.left)\n",
    "            self.print_postorder_aux(current.right)\n",
    "            print(current)\n",
    "        \n",
    "\n",
    "def create_bst(arr):\n",
    "    bst = BinarySearchTree()\n",
    "    for item in arr:\n",
    "        bst.insert(item)\n",
    "    return bst"
   ]
  },
  {
   "cell_type": "code",
   "execution_count": 29,
   "id": "98dc6fff-e92d-41bf-8afb-36beb77a5427",
   "metadata": {},
   "outputs": [
    {
     "ename": "TypeError",
     "evalue": "'<' not supported between instances of 'NoneType' and 'int'",
     "output_type": "error",
     "traceback": [
      "\u001b[1;31m---------------------------------------------------------------------------\u001b[0m",
      "\u001b[1;31mTypeError\u001b[0m                                 Traceback (most recent call last)",
      "Cell \u001b[1;32mIn[29], line 1\u001b[0m\n\u001b[1;32m----> 1\u001b[0m bst \u001b[38;5;241m=\u001b[39m create_bst([\u001b[38;5;241m5\u001b[39m,\u001b[38;5;241m4\u001b[39m,\u001b[38;5;241m6\u001b[39m,\u001b[38;5;28;01mNone\u001b[39;00m,\u001b[38;5;28;01mNone\u001b[39;00m,\u001b[38;5;241m3\u001b[39m,\u001b[38;5;241m7\u001b[39m])\n\u001b[0;32m      2\u001b[0m bst\u001b[38;5;241m.\u001b[39mprint_postorder()\n",
      "Cell \u001b[1;32mIn[17], line 74\u001b[0m, in \u001b[0;36mcreate_bst\u001b[1;34m(arr)\u001b[0m\n\u001b[0;32m     72\u001b[0m bst \u001b[38;5;241m=\u001b[39m BinarySearchTree()\n\u001b[0;32m     73\u001b[0m \u001b[38;5;28;01mfor\u001b[39;00m item \u001b[38;5;129;01min\u001b[39;00m arr:\n\u001b[1;32m---> 74\u001b[0m     bst\u001b[38;5;241m.\u001b[39minsert(item)\n\u001b[0;32m     75\u001b[0m \u001b[38;5;28;01mreturn\u001b[39;00m bst\n",
      "Cell \u001b[1;32mIn[17], line 23\u001b[0m, in \u001b[0;36mBinarySearchTree.insert\u001b[1;34m(self, value)\u001b[0m\n\u001b[0;32m     21\u001b[0m     \u001b[38;5;28mself\u001b[39m\u001b[38;5;241m.\u001b[39mroot \u001b[38;5;241m=\u001b[39m TreeNode(value)\n\u001b[0;32m     22\u001b[0m \u001b[38;5;28;01melse\u001b[39;00m:\n\u001b[1;32m---> 23\u001b[0m     \u001b[38;5;28mself\u001b[39m\u001b[38;5;241m.\u001b[39m_insert_list_(\u001b[38;5;28mself\u001b[39m\u001b[38;5;241m.\u001b[39mroot, value)\n",
      "Cell \u001b[1;32mIn[17], line 26\u001b[0m, in \u001b[0;36mBinarySearchTree._insert_list_\u001b[1;34m(self, current, value)\u001b[0m\n\u001b[0;32m     25\u001b[0m \u001b[38;5;28;01mdef\u001b[39;00m \u001b[38;5;21m_insert_list_\u001b[39m(\u001b[38;5;28mself\u001b[39m, current, value):\n\u001b[1;32m---> 26\u001b[0m     \u001b[38;5;28;01mif\u001b[39;00m value \u001b[38;5;241m<\u001b[39m current\u001b[38;5;241m.\u001b[39mvalue:\n\u001b[0;32m     27\u001b[0m         \u001b[38;5;28;01mif\u001b[39;00m current\u001b[38;5;241m.\u001b[39mleft \u001b[38;5;129;01mis\u001b[39;00m \u001b[38;5;28;01mNone\u001b[39;00m:\n\u001b[0;32m     28\u001b[0m             current\u001b[38;5;241m.\u001b[39mleft \u001b[38;5;241m=\u001b[39m TreeNode(value)\n",
      "\u001b[1;31mTypeError\u001b[0m: '<' not supported between instances of 'NoneType' and 'int'"
     ]
    }
   ],
   "source": [
    "bst = create_bst([5,4,6,None,None,3,7])\n",
    "bst.print_postorder()"
   ]
  },
  {
   "cell_type": "code",
   "execution_count": 45,
   "id": "6807f1c2-fcd5-43a2-848b-8c727765be45",
   "metadata": {},
   "outputs": [
    {
     "name": "stdout",
     "output_type": "stream",
     "text": [
      "1\n",
      "8\n",
      "6\n",
      "4\n",
      "2\n"
     ]
    }
   ],
   "source": [
    "bst = create_bst([2,1,4,6,8])\n",
    "bst.print_postorder()"
   ]
  },
  {
   "cell_type": "markdown",
   "id": "cda29450-0648-4fe4-ad62-a3d957c4bbe1",
   "metadata": {},
   "source": [
    "## Validate Binary Search Tree"
   ]
  },
  {
   "cell_type": "code",
   "execution_count": 20,
   "id": "a6b28a8d-7ec9-480e-9935-7d90386def73",
   "metadata": {},
   "outputs": [
    {
     "data": {
      "text/plain": [
       "\"\\nGiven the root of a binary tree, determine if it is a valid binary search tree (BST).\\n\\nA valid BST is defined as follows:\\n\\nThe left subtree of a node contains only nodes with keys strictly less than the node's key.\\nThe right subtree of a node contains only nodes with keys strictly greater than the node's key.\\nBoth the left and right subtrees must also be binary search trees.\\n\\n\""
      ]
     },
     "execution_count": 20,
     "metadata": {},
     "output_type": "execute_result"
    }
   ],
   "source": [
    "\"\"\"\n",
    "Given the root of a binary tree, determine if it is a valid binary search tree (BST).\n",
    "\n",
    "A valid BST is defined as follows:\n",
    "\n",
    "The left subtree of a node contains only nodes with keys strictly less than the node's key.\n",
    "The right subtree of a node contains only nodes with keys strictly greater than the node's key.\n",
    "Both the left and right subtrees must also be binary search trees.\n",
    "\n",
    "\"\"\""
   ]
  },
  {
   "cell_type": "code",
   "execution_count": 48,
   "id": "90f3cfb2-d05b-4a3b-ad58-7e9856e3116d",
   "metadata": {},
   "outputs": [],
   "source": [
    "def isValidBST(root):\n",
    "    # Special case, root only\n",
    "    if root.left is None:\n",
    "        if root.right is None:\n",
    "            return True\n",
    "            \n",
    "    return isValidBST_left(root.left, root.value) and isValidBST_right(root.right, root.value)\n",
    "\n",
    "def isValidBST_left(root, base_value):\n",
    "\n",
    "    # check against root node value\n",
    "    if root.value > base_value:\n",
    "        return False\n",
    "\n",
    "    # check every node against its parent \n",
    "    if not root.left is None:\n",
    "        if root.left.value >= root.value:\n",
    "            return False\n",
    "        return isValidBST_left(root.left, base_value)\n",
    "\n",
    "    \n",
    "    if not root.right is None:\n",
    "        if root.right.value <= root.value:\n",
    "            return False\n",
    "        return isValidBST_left(root.right, base_value)\n",
    "        \n",
    "    return True\n",
    "\n",
    "def isValidBST_right(root, base_value):\n",
    "\n",
    "    # check against root node value\n",
    "    if root.value < base_value:\n",
    "        return False\n",
    "\n",
    "    # check every node against its parent \n",
    "    if not root.left is None:\n",
    "        if root.left.value >= root.value:\n",
    "            return False\n",
    "        return isValidBST_right(root.left, base_value)\n",
    "\n",
    "    \n",
    "    if not root.right is None:\n",
    "        if root.right.value <= root.value:\n",
    "            return False\n",
    "        return isValidBST_right(root.right, base_value)\n",
    "        \n",
    "    return True\n",
    "\n",
    "# need to check that on the left subtree that its RIGHT node is not greater than its parent parent (TEST CASE 4)\n",
    "# and any other related brain fuckery"
   ]
  },
  {
   "cell_type": "code",
   "execution_count": 49,
   "id": "7f0bba2c-9dc9-4665-8f16-f2be1534f13c",
   "metadata": {},
   "outputs": [
    {
     "data": {
      "text/plain": [
       "True"
      ]
     },
     "execution_count": 49,
     "metadata": {},
     "output_type": "execute_result"
    }
   ],
   "source": [
    "isValidBST(bst.root)"
   ]
  },
  {
   "cell_type": "code",
   "execution_count": 35,
   "id": "57d4044f-567d-4319-8d0c-32e07361775e",
   "metadata": {},
   "outputs": [],
   "source": [
    "bst.root.value = 0"
   ]
  },
  {
   "cell_type": "code",
   "execution_count": null,
   "id": "5af39794-e895-4e4b-9d17-be7a29142e85",
   "metadata": {},
   "outputs": [],
   "source": []
  }
 ],
 "metadata": {
  "kernelspec": {
   "display_name": "Python 3 (ipykernel)",
   "language": "python",
   "name": "python3"
  },
  "language_info": {
   "codemirror_mode": {
    "name": "ipython",
    "version": 3
   },
   "file_extension": ".py",
   "mimetype": "text/x-python",
   "name": "python",
   "nbconvert_exporter": "python",
   "pygments_lexer": "ipython3",
   "version": "3.11.7"
  }
 },
 "nbformat": 4,
 "nbformat_minor": 5
}
