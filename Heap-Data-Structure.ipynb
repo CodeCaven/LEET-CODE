{
 "cells": [
  {
   "cell_type": "code",
   "execution_count": null,
   "id": "6603ac65-85c0-432f-ab1f-e022c18948f3",
   "metadata": {},
   "outputs": [],
   "source": [
    "\"\"\"\n",
    "\n",
    "A (binary) heap is a complete binary tree that satisfies the heap property. (Other heaps exist inc. binomial, fibonacci heaps)\n",
    "\n",
    "\"For Every node, its children are greater/lesser (min heap/max heap) than its own value\"\n",
    "\n",
    "Used for efficient priority queues (for etc Dijkstra and many others). A heap is an implementation of the logical priority queue data structure.\n",
    "\n",
    "A binary heap can be represented as an array where root is arr[0] and\n",
    "\n",
    "- parent is k//2 (floor)\n",
    "- left child is 2k + 1\n",
    "- right child 2k + 2\n",
    "\n",
    "Need to \n",
    "- Insert \n",
    "- Find highest priority\n",
    "- Delete\n",
    "\n",
    "NOTE: can use heapq in Python for a binary heap data structure\n",
    "\n",
    "\"\"\""
   ]
  },
  {
   "cell_type": "code",
   "execution_count": 18,
   "id": "96b5ad31-c570-4267-8d58-46af08275c0d",
   "metadata": {},
   "outputs": [],
   "source": [
    "import sys # used for a maxsize below\n",
    "\n",
    "class MinHeap:\n",
    "    \n",
    "\n",
    "    def __init__(self, nodes):\n",
    "        self.nodes = []\n",
    "        for node in nodes:\n",
    "            self.add(node)\n",
    "\n",
    "    def __len__(self):\n",
    "        return len(self.nodes)\n",
    "\n",
    "    def __get_left_child_index(self, parent_index):\n",
    "        return 2 * parent_index + 1\n",
    "\n",
    "    def __get_right_child_index(self, parent_index):\n",
    "        return 2 * parent_index + 2\n",
    "\n",
    "    def __get_parent_index(self, child_index):\n",
    "        return (child_index - 1) // 2\n",
    "\n",
    "    def __has_left_child(self, parent_index):\n",
    "        return self.__get_left_child_index(parent_index) < len(self.nodes)\n",
    "\n",
    "    def __has_right_child(self, parent_index):\n",
    "        return self.__get_right_child_index(parent_index) < len(self.nodes)\n",
    "\n",
    "    def __has_parent(self, index):\n",
    "        return self.__get_parent_index(index) >= 0\n",
    "\n",
    "    def __left_child(self, index):\n",
    "        if not self.__has_left_child(index):\n",
    "            # Virtual -inf\n",
    "            return -sys.maxsize\n",
    "        return self.nodes[self.__get_left_child_index(index)]\n",
    "\n",
    "    def __right_child(self, index):\n",
    "        if not self.__has_right_child(index):\n",
    "            # Virtual -inf (remove when I can see what it does)\n",
    "            return -sys.maxsize\n",
    "        return self.nodes[self.__get_right_child_index(index)]\n",
    "\n",
    "    def __parent(self, index):\n",
    "        if not self.__has_parent(index):\n",
    "            return None\n",
    "        return self.nodes[self.__get_parent_index(index)]\n",
    "\n",
    "    # Inserting into MinHeap (see below)\n",
    "    def __swap(self, first_idx, second_idx):\n",
    "        tmp = self.nodes[first_idx]\n",
    "        self.nodes[first_idx] = self.nodes[second_idx]\n",
    "        self.nodes[second_idx] = tmp\n",
    "\n",
    "    def __heapify_up(self, child):\n",
    "        \"\"\"Move last added element to correct position in heap\"\"\"\n",
    "        if not child:\n",
    "            # Start with last\n",
    "            child = len(self.nodes) - 1\n",
    "        # Check if smaller than parent\n",
    "        parent_idx = self.__get_parent_index(child)\n",
    "        if self.__parent(child) and self.nodes[child] < self.__parent(child):\n",
    "            # Swap child <> parent\n",
    "            self.__swap(child, parent_idx)\n",
    "            # Recurse on parent index now (should have child value)\n",
    "            self.__heapify_up(parent_idx)\n",
    "        # If its not smaller, leave as it is\n",
    "        return self.nodes\n",
    "      \n",
    "    def add(self, item):\n",
    "        self.nodes.append(item)\n",
    "        self.__heapify_up(None)\n",
    "\n",
    "    # Deleting from MinHeap (see below)\n",
    "    def __heapify_down(self, index):\n",
    "        \"\"\"Move root to proper position in heap\"\"\"\n",
    "        if index >= len(self.nodes) or not self.__has_left_child(index):\n",
    "            return self.nodes\n",
    "            \n",
    "        # Check if greater than left or right\n",
    "        smaller_child_idx = self.__get_left_child_index(index)\n",
    "        if self.__has_right_child(index) and \\\n",
    "                self.__right_child(index) < self.__left_child(index):\n",
    "            smaller_child_idx = self.__get_right_child_index(index)\n",
    "\n",
    "        if self.nodes[index] < self.nodes[smaller_child_idx]:\n",
    "            # Lower than both, do nothing\n",
    "            return self.nodes\n",
    "\n",
    "        if self.nodes[index] > self.nodes[smaller_child_idx]:\n",
    "            # Swap with smaller child\n",
    "            self.__swap(index, smaller_child_idx)\n",
    "            return self.__heapify_down(smaller_child_idx)\n",
    "\n",
    "    def delete(self) :\n",
    "\n",
    "        # Remove first and insert the last one added as the root\n",
    "        removed_node = self.nodes[0]\n",
    "        self.nodes[0] = self.nodes[len(self.nodes) - 1]\n",
    "        \n",
    "        # Shrink size by 1\n",
    "        del self.nodes[-1]\n",
    "\n",
    "        self.__heapify_down(0)\n",
    "        return removed_node"
   ]
  },
  {
   "cell_type": "markdown",
   "id": "30a147a6-744f-40c8-987b-f66a628c5795",
   "metadata": {},
   "source": [
    "## Inserting into MinHeap"
   ]
  },
  {
   "cell_type": "code",
   "execution_count": 3,
   "id": "6e73f238-d225-4cca-b321-caf61e7377ee",
   "metadata": {},
   "outputs": [
    {
     "data": {
      "text/plain": [
       "'\\nInserting into a heap is always a 2-step process\\n\\n1) Append the new item to the end of the array\\n2) Heapify-up or bubble up the new item by recursively checking the heapify property\\n\\n'"
      ]
     },
     "execution_count": 3,
     "metadata": {},
     "output_type": "execute_result"
    }
   ],
   "source": [
    "\"\"\"\n",
    "Inserting into a heap is always a 2-step process\n",
    "\n",
    "1) Append the new item to the end of the array\n",
    "2) Heapify-up or bubble up the new item by recursively checking the heapify property\n",
    "\n",
    "\"\"\""
   ]
  },
  {
   "cell_type": "markdown",
   "id": "f4286d6c-c3e2-494c-a009-01600e94b5c4",
   "metadata": {},
   "source": [
    "## Deleting from a MinHeap"
   ]
  },
  {
   "cell_type": "code",
   "execution_count": null,
   "id": "a9384b1a-b459-44de-992c-f0f6087ae568",
   "metadata": {},
   "outputs": [],
   "source": [
    "\"\"\"\n",
    "Similar to inserting, we need to remove the highest priority and reorganise.\n",
    "However, deleting the first element and reorganising is expensive.\n",
    "\n",
    "Instead, copy the last element to the first and shrink the array by 1.\n",
    "Then bubble down or heapify down the first element to its correct position\n",
    "\n",
    "- check if its greater than any of its children(left or right), if so swap with smallest\n",
    "- recursively heapify down with the smallest until no more children\n",
    "\n",
    "\n",
    "\"\"\""
   ]
  },
  {
   "cell_type": "markdown",
   "id": "8169a41b-667b-4974-a4e3-2ac9a735cd26",
   "metadata": {},
   "source": [
    "## Heapsort"
   ]
  },
  {
   "cell_type": "code",
   "execution_count": null,
   "id": "54a05f49-59ec-42b2-a836-0eb28c89c43c",
   "metadata": {},
   "outputs": [],
   "source": [
    "\"\"\"\n",
    "Sorting a list is now easy.\n",
    "\n",
    "1) Create a heap with the unsorted list\n",
    "2) Call the delete function n times (it returns the min every time)\n",
    "\n",
    "\n",
    "\"\"\""
   ]
  },
  {
   "cell_type": "code",
   "execution_count": 16,
   "id": "29a408f4-214e-401c-a295-58522405de9e",
   "metadata": {},
   "outputs": [],
   "source": [
    "# HEAPSORT\n",
    "def heapsort(unsorted_input):\n",
    "    \"\"\" Heapsort using O(n) space \"\"\"\n",
    "\n",
    "    # create heap\n",
    "    heap = MinHeap(unsorted_input)\n",
    "    sorted_input = []\n",
    "\n",
    "    # loop the delete function popping off min\n",
    "    for _ in range(len(unsorted_input)):\n",
    "        sorted_input.append(heap.delete())\n",
    "    return sorted_input"
   ]
  },
  {
   "cell_type": "code",
   "execution_count": 19,
   "id": "b08cacff-5139-4dd7-ab2c-6e4f96d253b1",
   "metadata": {},
   "outputs": [
    {
     "name": "stdout",
     "output_type": "stream",
     "text": [
      "[8, 10, 15, 17, 20]\n"
     ]
    }
   ],
   "source": [
    "unsorted_array = [10, 15, 8, 20, 17]\n",
    "print(heapsort(unsorted_array))"
   ]
  },
  {
   "cell_type": "code",
   "execution_count": null,
   "id": "8708ab3e-5bac-4147-b663-245f4c8b18cc",
   "metadata": {},
   "outputs": [],
   "source": []
  }
 ],
 "metadata": {
  "kernelspec": {
   "display_name": "Python 3 (ipykernel)",
   "language": "python",
   "name": "python3"
  },
  "language_info": {
   "codemirror_mode": {
    "name": "ipython",
    "version": 3
   },
   "file_extension": ".py",
   "mimetype": "text/x-python",
   "name": "python",
   "nbconvert_exporter": "python",
   "pygments_lexer": "ipython3",
   "version": "3.11.7"
  }
 },
 "nbformat": 4,
 "nbformat_minor": 5
}
